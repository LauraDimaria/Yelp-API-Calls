{
 "cells": [
  {
   "cell_type": "markdown",
   "id": "bd619701",
   "metadata": {},
   "source": [
    "### Yelp API Calls-Revised\n",
    "#### Laura Dimaria\n",
    "\n",
    "7/30/22"
   ]
  },
  {
   "cell_type": "code",
   "execution_count": 52,
   "id": "66f701fe",
   "metadata": {},
   "outputs": [],
   "source": [
    "#Imports\n",
    "import numpy as np\n",
    "import pandas as pd\n",
    "\n",
    "import os, json, math, time\n",
    "from yelpapi import YelpAPI\n",
    "from tqdm.notebook import tqdm_notebook"
   ]
  },
  {
   "cell_type": "code",
   "execution_count": 53,
   "id": "8d9d75c4",
   "metadata": {},
   "outputs": [
    {
     "data": {
      "text/plain": [
       "dict_keys(['client-id', 'api-key'])"
      ]
     },
     "execution_count": 53,
     "metadata": {},
     "output_type": "execute_result"
    }
   ],
   "source": [
    "#load yelp api file\n",
    "with open('/Users/lauradimaria/.secret/yelp_api.json') as f:\n",
    "    login = json.load(f)\n",
    "login.keys()"
   ]
  },
  {
   "cell_type": "code",
   "execution_count": 54,
   "id": "94e25b15",
   "metadata": {},
   "outputs": [
    {
     "data": {
      "text/plain": [
       "<yelpapi.yelpapi.YelpAPI at 0x1291c3ca0>"
      ]
     },
     "execution_count": 54,
     "metadata": {},
     "output_type": "execute_result"
    }
   ],
   "source": [
    "yelp_api = YelpAPI(login['api-key'], timeout_s=5.0)\n",
    "yelp_api"
   ]
  },
  {
   "cell_type": "code",
   "execution_count": 55,
   "id": "e0217e7f",
   "metadata": {},
   "outputs": [],
   "source": [
    "#set location and term\n",
    "LOCATION = 'Philadelphia, PA, 19125'\n",
    "TERM = 'Mexican'"
   ]
  },
  {
   "cell_type": "code",
   "execution_count": 56,
   "id": "6cd9fa36",
   "metadata": {},
   "outputs": [
    {
     "data": {
      "text/plain": [
       "'Data/results_in_progress_mexican.json'"
      ]
     },
     "execution_count": 56,
     "metadata": {},
     "output_type": "execute_result"
    }
   ],
   "source": [
    "#create json file\n",
    "JSON_FILE = f\"Data/results_in_progress_mexican.json\"\n",
    "JSON_FILE"
   ]
  },
  {
   "cell_type": "code",
   "execution_count": 57,
   "id": "7d1ad299",
   "metadata": {},
   "outputs": [
    {
     "name": "stdout",
     "output_type": "stream",
     "text": [
      "[i] Data/results_in_progress_mexican.json already exists.\n"
     ]
    }
   ],
   "source": [
    "#check if json file exists\n",
    "file_exists = os.path.isfile(JSON_FILE)\n",
    " \n",
    "if file_exists == False:\n",
    "    folder = os.path.dirname(JSON_FILE)\n",
    "\n",
    "    if len(folder)>0:\n",
    "        os.makedirs(folder,exist_ok=True)\n",
    "        \n",
    "    print(f\"[i] {JSON_FILE} not found. Saving empty list to file.\")\n",
    "    with open(JSON_FILE,'w') as f:\n",
    "        json.dump([],f)  \n",
    "\n",
    "else:\n",
    "    print(f\"[i] {JSON_FILE} already exists.\")"
   ]
  },
  {
   "cell_type": "code",
   "execution_count": 58,
   "id": "4511d379",
   "metadata": {},
   "outputs": [
    {
     "name": "stdout",
     "output_type": "stream",
     "text": [
      "- 257 previous results found.\n"
     ]
    }
   ],
   "source": [
    "with open(JSON_FILE,'r') as f:\n",
    "    previous_results = json.load(f)\n",
    "    \n",
    "## set offset based on previous results\n",
    "n_results = len(previous_results)\n",
    "print(f'- {n_results} previous results found.')"
   ]
  },
  {
   "cell_type": "code",
   "execution_count": 59,
   "id": "4750c51f",
   "metadata": {},
   "outputs": [
    {
     "data": {
      "text/plain": [
       "dict_keys(['businesses', 'total', 'region'])"
      ]
     },
     "execution_count": 59,
     "metadata": {},
     "output_type": "execute_result"
    }
   ],
   "source": [
    "#get results using api search\n",
    "results = yelp_api.search_query(location=LOCATION,\n",
    "                                term=TERM,\n",
    "                               offset=n_results)\n",
    "results.keys()"
   ]
  },
  {
   "cell_type": "code",
   "execution_count": 60,
   "id": "bc15d29d",
   "metadata": {},
   "outputs": [
    {
     "data": {
      "text/plain": [
       "257"
      ]
     },
     "execution_count": 60,
     "metadata": {},
     "output_type": "execute_result"
    }
   ],
   "source": [
    "#total number of results\n",
    "total_results = results['total']\n",
    "total_results"
   ]
  },
  {
   "cell_type": "code",
   "execution_count": 61,
   "id": "b6b4d3f0",
   "metadata": {},
   "outputs": [
    {
     "data": {
      "text/plain": [
       "0"
      ]
     },
     "execution_count": 61,
     "metadata": {},
     "output_type": "execute_result"
    }
   ],
   "source": [
    "#number of results per page\n",
    "results_per_page = len(results['businesses'])\n",
    "results_per_page"
   ]
  },
  {
   "cell_type": "code",
   "execution_count": 62,
   "id": "1e628624",
   "metadata": {},
   "outputs": [
    {
     "ename": "ZeroDivisionError",
     "evalue": "division by zero",
     "output_type": "error",
     "traceback": [
      "\u001b[0;31m---------------------------------------------------------------------------\u001b[0m",
      "\u001b[0;31mZeroDivisionError\u001b[0m                         Traceback (most recent call last)",
      "Input \u001b[0;32mIn [62]\u001b[0m, in \u001b[0;36m<cell line: 4>\u001b[0;34m()\u001b[0m\n\u001b[1;32m      2\u001b[0m \u001b[38;5;28;01mimport\u001b[39;00m \u001b[38;5;21;01mtime\u001b[39;00m\u001b[38;5;241m,\u001b[39m \u001b[38;5;21;01mmath\u001b[39;00m\n\u001b[1;32m      3\u001b[0m \u001b[38;5;66;03m#figure out how many pages of results we have\u001b[39;00m\n\u001b[0;32m----> 4\u001b[0m n_pages \u001b[38;5;241m=\u001b[39m math\u001b[38;5;241m.\u001b[39mceil(\u001b[43m(\u001b[49m\u001b[43mresults\u001b[49m\u001b[43m[\u001b[49m\u001b[38;5;124;43m'\u001b[39;49m\u001b[38;5;124;43mtotal\u001b[39;49m\u001b[38;5;124;43m'\u001b[39;49m\u001b[43m]\u001b[49m\u001b[38;5;241;43m-\u001b[39;49m\u001b[43mn_results\u001b[49m\u001b[43m)\u001b[49m\u001b[38;5;241;43m/\u001b[39;49m\u001b[43m \u001b[49m\u001b[43mresults_per_page\u001b[49m)\n\u001b[1;32m      5\u001b[0m n_pages\n",
      "\u001b[0;31mZeroDivisionError\u001b[0m: division by zero"
     ]
    }
   ],
   "source": [
    "#import time and math packages\n",
    "import time, math\n",
    "#figure out how many pages of results we have\n",
    "n_pages = math.ceil((results['total']-n_results)/ results_per_page)\n",
    "n_pages"
   ]
  },
  {
   "cell_type": "code",
   "execution_count": 63,
   "id": "23b23fae",
   "metadata": {},
   "outputs": [],
   "source": [
    "#join with previous results\n",
    "previous_results.extend(results['businesses'])  \n",
    "with open(JSON_FILE,'w') as f:\n",
    "     json.dump(previous_results,f)"
   ]
  },
  {
   "cell_type": "code",
   "execution_count": 64,
   "id": "6819da78",
   "metadata": {},
   "outputs": [
    {
     "data": {
      "application/vnd.jupyter.widget-view+json": {
       "model_id": "4857dfeb21194d3c8b73e031328e4862",
       "version_major": 2,
       "version_minor": 0
      },
      "text/plain": [
       "  0%|          | 0/13 [00:00<?, ?it/s]"
      ]
     },
     "metadata": {},
     "output_type": "display_data"
    }
   ],
   "source": [
    "from tqdm.notebook import tqdm_notebook\n",
    "import time\n",
    "for i in tqdm_notebook(range(n_pages)):\n",
    "    # adds 200 ms pause\n",
    "    time.sleep(.2) "
   ]
  },
  {
   "cell_type": "code",
   "execution_count": 65,
   "id": "4a79a33b",
   "metadata": {},
   "outputs": [
    {
     "data": {
      "application/vnd.jupyter.widget-view+json": {
       "model_id": "85700c3aec944e88820703b4d722de19",
       "version_major": 2,
       "version_minor": 0
      },
      "text/plain": [
       "  0%|          | 0/13 [00:00<?, ?it/s]"
      ]
     },
     "metadata": {},
     "output_type": "display_data"
    }
   ],
   "source": [
    "for i in tqdm_notebook( range(1,n_pages+1)):\n",
    "    time.sleep(.2)\n",
    "    ## Read in results in progress file and check the length\n",
    "    with open(JSON_FILE, 'r') as f:\n",
    "        previous_results = json.load(f)\n",
    "    ## save number of results for to use as offset\n",
    "    n_results = len(previous_results)\n",
    "    ## use n_results as the OFFSET \n",
    "    results = yelp_api.search_query(location=LOCATION,\n",
    "                                    term=TERM, \n",
    "                                    offset=n_results)\n",
    "    \n",
    "    ## append new results and save to file\n",
    "    previous_results.extend(results['businesses'])\n",
    "    \n",
    "#     display(previous_results)\n",
    "    with open(JSON_FILE,'w') as f:\n",
    "        json.dump(previous_results,f)\n"
   ]
  },
  {
   "cell_type": "code",
   "execution_count": 66,
   "id": "ccb7b0f4",
   "metadata": {},
   "outputs": [
    {
     "data": {
      "text/html": [
       "<div>\n",
       "<style scoped>\n",
       "    .dataframe tbody tr th:only-of-type {\n",
       "        vertical-align: middle;\n",
       "    }\n",
       "\n",
       "    .dataframe tbody tr th {\n",
       "        vertical-align: top;\n",
       "    }\n",
       "\n",
       "    .dataframe thead th {\n",
       "        text-align: right;\n",
       "    }\n",
       "</style>\n",
       "<table border=\"1\" class=\"dataframe\">\n",
       "  <thead>\n",
       "    <tr style=\"text-align: right;\">\n",
       "      <th></th>\n",
       "      <th>id</th>\n",
       "      <th>alias</th>\n",
       "      <th>name</th>\n",
       "      <th>image_url</th>\n",
       "      <th>is_closed</th>\n",
       "      <th>url</th>\n",
       "      <th>review_count</th>\n",
       "      <th>categories</th>\n",
       "      <th>rating</th>\n",
       "      <th>coordinates</th>\n",
       "      <th>transactions</th>\n",
       "      <th>price</th>\n",
       "      <th>location</th>\n",
       "      <th>phone</th>\n",
       "      <th>display_phone</th>\n",
       "      <th>distance</th>\n",
       "    </tr>\n",
       "  </thead>\n",
       "  <tbody>\n",
       "    <tr>\n",
       "      <th>0</th>\n",
       "      <td>GAuweBrcC_wK3a0UhZjwfA</td>\n",
       "      <td>loco-pez-philadelphia-3</td>\n",
       "      <td>Loco Pez</td>\n",
       "      <td>https://s3-media3.fl.yelpcdn.com/bphoto/LVTiVH...</td>\n",
       "      <td>False</td>\n",
       "      <td>https://www.yelp.com/biz/loco-pez-philadelphia...</td>\n",
       "      <td>664</td>\n",
       "      <td>[{'alias': 'bars', 'title': 'Bars'}, {'alias':...</td>\n",
       "      <td>4.0</td>\n",
       "      <td>{'latitude': 39.977142, 'longitude': -75.127202}</td>\n",
       "      <td>[delivery, pickup]</td>\n",
       "      <td>$$</td>\n",
       "      <td>{'address1': '2401 E Norris St', 'address2': '...</td>\n",
       "      <td>+12678868061</td>\n",
       "      <td>(267) 886-8061</td>\n",
       "      <td>274.985962</td>\n",
       "    </tr>\n",
       "    <tr>\n",
       "      <th>1</th>\n",
       "      <td>9UOYOZHb4-V3hZlPOxUkVQ</td>\n",
       "      <td>cantina-la-martina-philadelphia</td>\n",
       "      <td>Cantina La Martina</td>\n",
       "      <td>https://s3-media4.fl.yelpcdn.com/bphoto/0wT_bs...</td>\n",
       "      <td>False</td>\n",
       "      <td>https://www.yelp.com/biz/cantina-la-martina-ph...</td>\n",
       "      <td>19</td>\n",
       "      <td>[{'alias': 'mexican', 'title': 'Mexican'}]</td>\n",
       "      <td>4.5</td>\n",
       "      <td>{'latitude': 39.99157, 'longitude': -75.1228177}</td>\n",
       "      <td>[delivery, pickup]</td>\n",
       "      <td>NaN</td>\n",
       "      <td>{'address1': '2800 D St', 'address2': None, 'a...</td>\n",
       "      <td>+12675192142</td>\n",
       "      <td>(267) 519-2142</td>\n",
       "      <td>1639.405365</td>\n",
       "    </tr>\n",
       "    <tr>\n",
       "      <th>2</th>\n",
       "      <td>asbEI02GRGFPSPM97hrIaA</td>\n",
       "      <td>nemi-restaurant-philadelphia-2</td>\n",
       "      <td>Nemi Restaurant</td>\n",
       "      <td>https://s3-media1.fl.yelpcdn.com/bphoto/5YF91d...</td>\n",
       "      <td>False</td>\n",
       "      <td>https://www.yelp.com/biz/nemi-restaurant-phila...</td>\n",
       "      <td>127</td>\n",
       "      <td>[{'alias': 'mexican', 'title': 'Mexican'}]</td>\n",
       "      <td>4.5</td>\n",
       "      <td>{'latitude': 39.9816738971912, 'longitude': -7...</td>\n",
       "      <td>[delivery, pickup]</td>\n",
       "      <td>$$</td>\n",
       "      <td>{'address1': '2636 E Ann St', 'address2': 'Flr...</td>\n",
       "      <td>+12675190713</td>\n",
       "      <td>(267) 519-0713</td>\n",
       "      <td>1383.239225</td>\n",
       "    </tr>\n",
       "    <tr>\n",
       "      <th>3</th>\n",
       "      <td>zvvl3c1FO3O3BZdhusficA</td>\n",
       "      <td>lmno-philadelphia</td>\n",
       "      <td>LMNO</td>\n",
       "      <td>https://s3-media3.fl.yelpcdn.com/bphoto/i5R9Ri...</td>\n",
       "      <td>False</td>\n",
       "      <td>https://www.yelp.com/biz/lmno-philadelphia?adj...</td>\n",
       "      <td>87</td>\n",
       "      <td>[{'alias': 'mexican', 'title': 'Mexican'}]</td>\n",
       "      <td>4.0</td>\n",
       "      <td>{'latitude': 39.97604, 'longitude': -75.13377}</td>\n",
       "      <td>[]</td>\n",
       "      <td>NaN</td>\n",
       "      <td>{'address1': '1739-49 N Front St', 'address2':...</td>\n",
       "      <td>+12157707001</td>\n",
       "      <td>(215) 770-7001</td>\n",
       "      <td>852.382979</td>\n",
       "    </tr>\n",
       "    <tr>\n",
       "      <th>4</th>\n",
       "      <td>5ItgryJvadUrKVljjJ8l4g</td>\n",
       "      <td>que-chula-es-puebla-philadelphia-2</td>\n",
       "      <td>Que Chula Es Puebla</td>\n",
       "      <td>https://s3-media2.fl.yelpcdn.com/bphoto/JQ4LfL...</td>\n",
       "      <td>False</td>\n",
       "      <td>https://www.yelp.com/biz/que-chula-es-puebla-p...</td>\n",
       "      <td>263</td>\n",
       "      <td>[{'alias': 'mexican', 'title': 'Mexican'}]</td>\n",
       "      <td>4.0</td>\n",
       "      <td>{'latitude': 39.9723663330078, 'longitude': -7...</td>\n",
       "      <td>[delivery, pickup]</td>\n",
       "      <td>$$</td>\n",
       "      <td>{'address1': '1356 N 2nd St', 'address2': '', ...</td>\n",
       "      <td>+12152030404</td>\n",
       "      <td>(215) 203-0404</td>\n",
       "      <td>1387.901484</td>\n",
       "    </tr>\n",
       "  </tbody>\n",
       "</table>\n",
       "</div>"
      ],
      "text/plain": [
       "                       id                               alias  \\\n",
       "0  GAuweBrcC_wK3a0UhZjwfA             loco-pez-philadelphia-3   \n",
       "1  9UOYOZHb4-V3hZlPOxUkVQ     cantina-la-martina-philadelphia   \n",
       "2  asbEI02GRGFPSPM97hrIaA      nemi-restaurant-philadelphia-2   \n",
       "3  zvvl3c1FO3O3BZdhusficA                   lmno-philadelphia   \n",
       "4  5ItgryJvadUrKVljjJ8l4g  que-chula-es-puebla-philadelphia-2   \n",
       "\n",
       "                  name                                          image_url  \\\n",
       "0             Loco Pez  https://s3-media3.fl.yelpcdn.com/bphoto/LVTiVH...   \n",
       "1   Cantina La Martina  https://s3-media4.fl.yelpcdn.com/bphoto/0wT_bs...   \n",
       "2      Nemi Restaurant  https://s3-media1.fl.yelpcdn.com/bphoto/5YF91d...   \n",
       "3                 LMNO  https://s3-media3.fl.yelpcdn.com/bphoto/i5R9Ri...   \n",
       "4  Que Chula Es Puebla  https://s3-media2.fl.yelpcdn.com/bphoto/JQ4LfL...   \n",
       "\n",
       "   is_closed                                                url  review_count  \\\n",
       "0      False  https://www.yelp.com/biz/loco-pez-philadelphia...           664   \n",
       "1      False  https://www.yelp.com/biz/cantina-la-martina-ph...            19   \n",
       "2      False  https://www.yelp.com/biz/nemi-restaurant-phila...           127   \n",
       "3      False  https://www.yelp.com/biz/lmno-philadelphia?adj...            87   \n",
       "4      False  https://www.yelp.com/biz/que-chula-es-puebla-p...           263   \n",
       "\n",
       "                                          categories  rating  \\\n",
       "0  [{'alias': 'bars', 'title': 'Bars'}, {'alias':...     4.0   \n",
       "1         [{'alias': 'mexican', 'title': 'Mexican'}]     4.5   \n",
       "2         [{'alias': 'mexican', 'title': 'Mexican'}]     4.5   \n",
       "3         [{'alias': 'mexican', 'title': 'Mexican'}]     4.0   \n",
       "4         [{'alias': 'mexican', 'title': 'Mexican'}]     4.0   \n",
       "\n",
       "                                         coordinates        transactions  \\\n",
       "0   {'latitude': 39.977142, 'longitude': -75.127202}  [delivery, pickup]   \n",
       "1   {'latitude': 39.99157, 'longitude': -75.1228177}  [delivery, pickup]   \n",
       "2  {'latitude': 39.9816738971912, 'longitude': -7...  [delivery, pickup]   \n",
       "3     {'latitude': 39.97604, 'longitude': -75.13377}                  []   \n",
       "4  {'latitude': 39.9723663330078, 'longitude': -7...  [delivery, pickup]   \n",
       "\n",
       "  price                                           location         phone  \\\n",
       "0    $$  {'address1': '2401 E Norris St', 'address2': '...  +12678868061   \n",
       "1   NaN  {'address1': '2800 D St', 'address2': None, 'a...  +12675192142   \n",
       "2    $$  {'address1': '2636 E Ann St', 'address2': 'Flr...  +12675190713   \n",
       "3   NaN  {'address1': '1739-49 N Front St', 'address2':...  +12157707001   \n",
       "4    $$  {'address1': '1356 N 2nd St', 'address2': '', ...  +12152030404   \n",
       "\n",
       "    display_phone     distance  \n",
       "0  (267) 886-8061   274.985962  \n",
       "1  (267) 519-2142  1639.405365  \n",
       "2  (267) 519-0713  1383.239225  \n",
       "3  (215) 770-7001   852.382979  \n",
       "4  (215) 203-0404  1387.901484  "
      ]
     },
     "metadata": {},
     "output_type": "display_data"
    },
    {
     "data": {
      "text/html": [
       "<div>\n",
       "<style scoped>\n",
       "    .dataframe tbody tr th:only-of-type {\n",
       "        vertical-align: middle;\n",
       "    }\n",
       "\n",
       "    .dataframe tbody tr th {\n",
       "        vertical-align: top;\n",
       "    }\n",
       "\n",
       "    .dataframe thead th {\n",
       "        text-align: right;\n",
       "    }\n",
       "</style>\n",
       "<table border=\"1\" class=\"dataframe\">\n",
       "  <thead>\n",
       "    <tr style=\"text-align: right;\">\n",
       "      <th></th>\n",
       "      <th>id</th>\n",
       "      <th>alias</th>\n",
       "      <th>name</th>\n",
       "      <th>image_url</th>\n",
       "      <th>is_closed</th>\n",
       "      <th>url</th>\n",
       "      <th>review_count</th>\n",
       "      <th>categories</th>\n",
       "      <th>rating</th>\n",
       "      <th>coordinates</th>\n",
       "      <th>transactions</th>\n",
       "      <th>price</th>\n",
       "      <th>location</th>\n",
       "      <th>phone</th>\n",
       "      <th>display_phone</th>\n",
       "      <th>distance</th>\n",
       "    </tr>\n",
       "  </thead>\n",
       "  <tbody>\n",
       "    <tr>\n",
       "      <th>252</th>\n",
       "      <td>ErJ9NtMXt-WJZV_TVZ08Ag</td>\n",
       "      <td>green-garden-philadelphia-2</td>\n",
       "      <td>Green Garden</td>\n",
       "      <td>https://s3-media2.fl.yelpcdn.com/bphoto/HTH4pS...</td>\n",
       "      <td>False</td>\n",
       "      <td>https://www.yelp.com/biz/green-garden-philadel...</td>\n",
       "      <td>82</td>\n",
       "      <td>[{'alias': 'chinese', 'title': 'Chinese'}, {'a...</td>\n",
       "      <td>3.5</td>\n",
       "      <td>{'latitude': 39.94718, 'longitude': -75.15746}</td>\n",
       "      <td>[pickup, delivery]</td>\n",
       "      <td>$</td>\n",
       "      <td>{'address1': '237 S 10th St', 'address2': '', ...</td>\n",
       "      <td>+12153511118</td>\n",
       "      <td>(215) 351-1118</td>\n",
       "      <td>4358.373399</td>\n",
       "    </tr>\n",
       "    <tr>\n",
       "      <th>253</th>\n",
       "      <td>rnecTemi_wnY5fjBng77Kw</td>\n",
       "      <td>kayu-philadelphia</td>\n",
       "      <td>Kayu</td>\n",
       "      <td>https://s3-media3.fl.yelpcdn.com/bphoto/h2qmnF...</td>\n",
       "      <td>False</td>\n",
       "      <td>https://www.yelp.com/biz/kayu-philadelphia?adj...</td>\n",
       "      <td>30</td>\n",
       "      <td>[{'alias': 'salad', 'title': 'Salad'}, {'alias...</td>\n",
       "      <td>3.5</td>\n",
       "      <td>{'latitude': 39.9554942816928, 'longitude': -7...</td>\n",
       "      <td>[pickup, delivery]</td>\n",
       "      <td>$$</td>\n",
       "      <td>{'address1': '1717 Arch St', 'address2': '', '...</td>\n",
       "      <td>+12676399949</td>\n",
       "      <td>(267) 639-9949</td>\n",
       "      <td>4506.149814</td>\n",
       "    </tr>\n",
       "    <tr>\n",
       "      <th>254</th>\n",
       "      <td>E1gf1YIWOo1BgzMUwJtEZg</td>\n",
       "      <td>top-tomato-bar-and-pizza-philadelphia</td>\n",
       "      <td>Top Tomato Bar &amp; Pizza</td>\n",
       "      <td>https://s3-media3.fl.yelpcdn.com/bphoto/2ImEYd...</td>\n",
       "      <td>False</td>\n",
       "      <td>https://www.yelp.com/biz/top-tomato-bar-and-pi...</td>\n",
       "      <td>250</td>\n",
       "      <td>[{'alias': 'pizza', 'title': 'Pizza'}, {'alias...</td>\n",
       "      <td>3.5</td>\n",
       "      <td>{'latitude': 39.94958, 'longitude': -75.15897}</td>\n",
       "      <td>[pickup, delivery]</td>\n",
       "      <td>$</td>\n",
       "      <td>{'address1': '116 S 11th St', 'address2': '', ...</td>\n",
       "      <td>+12155928242</td>\n",
       "      <td>(215) 592-8242</td>\n",
       "      <td>4252.640408</td>\n",
       "    </tr>\n",
       "    <tr>\n",
       "      <th>255</th>\n",
       "      <td>n-iPn34tLaqnq-dI8m8Bkw</td>\n",
       "      <td>howl-at-the-moon-philadelphia-philadelphia</td>\n",
       "      <td>Howl At the Moon Philadelphia</td>\n",
       "      <td>https://s3-media1.fl.yelpcdn.com/bphoto/7ArkAn...</td>\n",
       "      <td>False</td>\n",
       "      <td>https://www.yelp.com/biz/howl-at-the-moon-phil...</td>\n",
       "      <td>229</td>\n",
       "      <td>[{'alias': 'bars', 'title': 'Bars'}, {'alias':...</td>\n",
       "      <td>3.0</td>\n",
       "      <td>{'latitude': 39.9477765, 'longitude': -75.1664...</td>\n",
       "      <td>[]</td>\n",
       "      <td>$$</td>\n",
       "      <td>{'address1': '258 S 15th St', 'address2': '', ...</td>\n",
       "      <td>+12675192189</td>\n",
       "      <td>(267) 519-2189</td>\n",
       "      <td>4850.734991</td>\n",
       "    </tr>\n",
       "    <tr>\n",
       "      <th>256</th>\n",
       "      <td>wPi7p5fZyGTOjDU28IlTqA</td>\n",
       "      <td>woodys-philadelphia</td>\n",
       "      <td>Woody's</td>\n",
       "      <td>https://s3-media2.fl.yelpcdn.com/bphoto/mv0mb4...</td>\n",
       "      <td>False</td>\n",
       "      <td>https://www.yelp.com/biz/woodys-philadelphia?a...</td>\n",
       "      <td>340</td>\n",
       "      <td>[{'alias': 'danceclubs', 'title': 'Dance Clubs...</td>\n",
       "      <td>3.0</td>\n",
       "      <td>{'latitude': 39.949064, 'longitude': -75.16241}</td>\n",
       "      <td>[]</td>\n",
       "      <td>$$</td>\n",
       "      <td>{'address1': '202 S 13th St', 'address2': '', ...</td>\n",
       "      <td>+12155451893</td>\n",
       "      <td>(215) 545-1893</td>\n",
       "      <td>4501.862180</td>\n",
       "    </tr>\n",
       "  </tbody>\n",
       "</table>\n",
       "</div>"
      ],
      "text/plain": [
       "                         id                                       alias  \\\n",
       "252  ErJ9NtMXt-WJZV_TVZ08Ag                 green-garden-philadelphia-2   \n",
       "253  rnecTemi_wnY5fjBng77Kw                           kayu-philadelphia   \n",
       "254  E1gf1YIWOo1BgzMUwJtEZg       top-tomato-bar-and-pizza-philadelphia   \n",
       "255  n-iPn34tLaqnq-dI8m8Bkw  howl-at-the-moon-philadelphia-philadelphia   \n",
       "256  wPi7p5fZyGTOjDU28IlTqA                         woodys-philadelphia   \n",
       "\n",
       "                              name  \\\n",
       "252                   Green Garden   \n",
       "253                           Kayu   \n",
       "254         Top Tomato Bar & Pizza   \n",
       "255  Howl At the Moon Philadelphia   \n",
       "256                        Woody's   \n",
       "\n",
       "                                             image_url  is_closed  \\\n",
       "252  https://s3-media2.fl.yelpcdn.com/bphoto/HTH4pS...      False   \n",
       "253  https://s3-media3.fl.yelpcdn.com/bphoto/h2qmnF...      False   \n",
       "254  https://s3-media3.fl.yelpcdn.com/bphoto/2ImEYd...      False   \n",
       "255  https://s3-media1.fl.yelpcdn.com/bphoto/7ArkAn...      False   \n",
       "256  https://s3-media2.fl.yelpcdn.com/bphoto/mv0mb4...      False   \n",
       "\n",
       "                                                   url  review_count  \\\n",
       "252  https://www.yelp.com/biz/green-garden-philadel...            82   \n",
       "253  https://www.yelp.com/biz/kayu-philadelphia?adj...            30   \n",
       "254  https://www.yelp.com/biz/top-tomato-bar-and-pi...           250   \n",
       "255  https://www.yelp.com/biz/howl-at-the-moon-phil...           229   \n",
       "256  https://www.yelp.com/biz/woodys-philadelphia?a...           340   \n",
       "\n",
       "                                            categories  rating  \\\n",
       "252  [{'alias': 'chinese', 'title': 'Chinese'}, {'a...     3.5   \n",
       "253  [{'alias': 'salad', 'title': 'Salad'}, {'alias...     3.5   \n",
       "254  [{'alias': 'pizza', 'title': 'Pizza'}, {'alias...     3.5   \n",
       "255  [{'alias': 'bars', 'title': 'Bars'}, {'alias':...     3.0   \n",
       "256  [{'alias': 'danceclubs', 'title': 'Dance Clubs...     3.0   \n",
       "\n",
       "                                           coordinates        transactions  \\\n",
       "252     {'latitude': 39.94718, 'longitude': -75.15746}  [pickup, delivery]   \n",
       "253  {'latitude': 39.9554942816928, 'longitude': -7...  [pickup, delivery]   \n",
       "254     {'latitude': 39.94958, 'longitude': -75.15897}  [pickup, delivery]   \n",
       "255  {'latitude': 39.9477765, 'longitude': -75.1664...                  []   \n",
       "256    {'latitude': 39.949064, 'longitude': -75.16241}                  []   \n",
       "\n",
       "    price                                           location         phone  \\\n",
       "252     $  {'address1': '237 S 10th St', 'address2': '', ...  +12153511118   \n",
       "253    $$  {'address1': '1717 Arch St', 'address2': '', '...  +12676399949   \n",
       "254     $  {'address1': '116 S 11th St', 'address2': '', ...  +12155928242   \n",
       "255    $$  {'address1': '258 S 15th St', 'address2': '', ...  +12675192189   \n",
       "256    $$  {'address1': '202 S 13th St', 'address2': '', ...  +12155451893   \n",
       "\n",
       "      display_phone     distance  \n",
       "252  (215) 351-1118  4358.373399  \n",
       "253  (267) 639-9949  4506.149814  \n",
       "254  (215) 592-8242  4252.640408  \n",
       "255  (267) 519-2189  4850.734991  \n",
       "256  (215) 545-1893  4501.862180  "
      ]
     },
     "metadata": {},
     "output_type": "display_data"
    }
   ],
   "source": [
    "final_mexican_df = pd.read_json(JSON_FILE)\n",
    "display(final_mexican_df.head(), final_mexican_df.tail())"
   ]
  },
  {
   "cell_type": "code",
   "execution_count": 67,
   "id": "6c33f858",
   "metadata": {},
   "outputs": [
    {
     "data": {
      "text/plain": [
       "0"
      ]
     },
     "execution_count": 67,
     "metadata": {},
     "output_type": "execute_result"
    }
   ],
   "source": [
    "final_mexican_df.duplicated(subset='id').sum()"
   ]
  },
  {
   "cell_type": "code",
   "execution_count": 68,
   "id": "7ea27635",
   "metadata": {},
   "outputs": [],
   "source": [
    "final_mexican_df.to_csv('Data/final_results_mexican.csv.gz', compression='gzip',index=False)"
   ]
  },
  {
   "cell_type": "code",
   "execution_count": 69,
   "id": "07664052",
   "metadata": {},
   "outputs": [
    {
     "name": "stdout",
     "output_type": "stream",
     "text": [
      "<class 'pandas.core.frame.DataFrame'>\n",
      "RangeIndex: 257 entries, 0 to 256\n",
      "Data columns (total 16 columns):\n",
      " #   Column         Non-Null Count  Dtype  \n",
      "---  ------         --------------  -----  \n",
      " 0   id             257 non-null    object \n",
      " 1   alias          257 non-null    object \n",
      " 2   name           257 non-null    object \n",
      " 3   image_url      257 non-null    object \n",
      " 4   is_closed      257 non-null    bool   \n",
      " 5   url            257 non-null    object \n",
      " 6   review_count   257 non-null    int64  \n",
      " 7   categories     257 non-null    object \n",
      " 8   rating         257 non-null    float64\n",
      " 9   coordinates    257 non-null    object \n",
      " 10  transactions   257 non-null    object \n",
      " 11  price          208 non-null    object \n",
      " 12  location       257 non-null    object \n",
      " 13  phone          257 non-null    object \n",
      " 14  display_phone  257 non-null    object \n",
      " 15  distance       257 non-null    float64\n",
      "dtypes: bool(1), float64(2), int64(1), object(12)\n",
      "memory usage: 30.5+ KB\n"
     ]
    }
   ],
   "source": [
    "final_mexican_df.info()"
   ]
  },
  {
   "cell_type": "markdown",
   "id": "e193ce95",
   "metadata": {},
   "source": [
    "#### I couldn't figure out what was wrong with my french DF I had originally had, but I need to get these assignments completed so I just redid the assignment with a different cuisine."
   ]
  },
  {
   "cell_type": "code",
   "execution_count": null,
   "id": "fa09382b",
   "metadata": {},
   "outputs": [],
   "source": []
  }
 ],
 "metadata": {
  "kernelspec": {
   "display_name": "Python (dojo-env)",
   "language": "python",
   "name": "dojo-env"
  },
  "language_info": {
   "codemirror_mode": {
    "name": "ipython",
    "version": 3
   },
   "file_extension": ".py",
   "mimetype": "text/x-python",
   "name": "python",
   "nbconvert_exporter": "python",
   "pygments_lexer": "ipython3",
   "version": "3.8.13"
  },
  "toc": {
   "base_numbering": 1,
   "nav_menu": {},
   "number_sections": false,
   "sideBar": true,
   "skip_h1_title": false,
   "title_cell": "Table of Contents",
   "title_sidebar": "Contents",
   "toc_cell": false,
   "toc_position": {},
   "toc_section_display": true,
   "toc_window_display": false
  }
 },
 "nbformat": 4,
 "nbformat_minor": 5
}
