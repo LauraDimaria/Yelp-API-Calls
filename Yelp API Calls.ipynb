{
 "cells": [
  {
   "cell_type": "markdown",
   "id": "4c4afc73",
   "metadata": {},
   "source": [
    "Yelp API Calls\n",
    "\n",
    "Laura Dimaria\n",
    "\n",
    "7/25/22"
   ]
  },
  {
   "cell_type": "code",
   "execution_count": 51,
   "id": "ba00dd1f",
   "metadata": {},
   "outputs": [],
   "source": [
    "import pandas as pd\n",
    "import json\n",
    "from yelpapi import YelpAPI"
   ]
  },
  {
   "cell_type": "code",
   "execution_count": 52,
   "id": "60f1b52c",
   "metadata": {},
   "outputs": [
    {
     "data": {
      "text/plain": [
       "dict_keys(['client-id', 'api-key'])"
      ]
     },
     "execution_count": 52,
     "metadata": {},
     "output_type": "execute_result"
    }
   ],
   "source": [
    "with open('/Users/lauradimaria/.secret/yelp_api.json') as f: #change the path to match YOUR path!!\n",
    "    login = json.load(f)\n",
    "login.keys()"
   ]
  },
  {
   "cell_type": "code",
   "execution_count": 53,
   "id": "e8e20f64",
   "metadata": {},
   "outputs": [
    {
     "data": {
      "text/plain": [
       "<yelpapi.yelpapi.YelpAPI at 0x1558ad8e0>"
      ]
     },
     "execution_count": 53,
     "metadata": {},
     "output_type": "execute_result"
    }
   ],
   "source": [
    "yelp_api = YelpAPI(login['api-key'], timeout_s=5.0)\n",
    "yelp_api"
   ]
  },
  {
   "cell_type": "code",
   "execution_count": 54,
   "id": "58e6f998",
   "metadata": {},
   "outputs": [
    {
     "data": {
      "text/plain": [
       "dict_keys(['businesses', 'total', 'region'])"
      ]
     },
     "execution_count": 54,
     "metadata": {},
     "output_type": "execute_result"
    }
   ],
   "source": [
    "french = yelp_api.search_query(location='Philadelphia, PA',\n",
    "                               term='French')\n",
    "\n",
    "type(french)\n",
    "french.keys()"
   ]
  },
  {
   "cell_type": "code",
   "execution_count": 55,
   "id": "7ebe997f",
   "metadata": {},
   "outputs": [
    {
     "data": {
      "text/html": [
       "<div>\n",
       "<style scoped>\n",
       "    .dataframe tbody tr th:only-of-type {\n",
       "        vertical-align: middle;\n",
       "    }\n",
       "\n",
       "    .dataframe tbody tr th {\n",
       "        vertical-align: top;\n",
       "    }\n",
       "\n",
       "    .dataframe thead th {\n",
       "        text-align: right;\n",
       "    }\n",
       "</style>\n",
       "<table border=\"1\" class=\"dataframe\">\n",
       "  <thead>\n",
       "    <tr style=\"text-align: right;\">\n",
       "      <th></th>\n",
       "      <th>id</th>\n",
       "      <th>alias</th>\n",
       "      <th>name</th>\n",
       "      <th>image_url</th>\n",
       "      <th>is_closed</th>\n",
       "      <th>url</th>\n",
       "      <th>review_count</th>\n",
       "      <th>categories</th>\n",
       "      <th>rating</th>\n",
       "      <th>coordinates</th>\n",
       "      <th>transactions</th>\n",
       "      <th>price</th>\n",
       "      <th>location</th>\n",
       "      <th>phone</th>\n",
       "      <th>display_phone</th>\n",
       "      <th>distance</th>\n",
       "    </tr>\n",
       "  </thead>\n",
       "  <tbody>\n",
       "    <tr>\n",
       "      <th>0</th>\n",
       "      <td>4_-IcMpkF_sBRHomWZHNzA</td>\n",
       "      <td>bistrot-la-minette-philadelphia-2</td>\n",
       "      <td>Bistrot La Minette</td>\n",
       "      <td>https://s3-media3.fl.yelpcdn.com/bphoto/JVcztQ...</td>\n",
       "      <td>False</td>\n",
       "      <td>https://www.yelp.com/biz/bistrot-la-minette-ph...</td>\n",
       "      <td>625</td>\n",
       "      <td>[{'alias': 'french', 'title': 'French'}, {'ali...</td>\n",
       "      <td>4.5</td>\n",
       "      <td>{'latitude': 39.9414622968223, 'longitude': -7...</td>\n",
       "      <td>[delivery]</td>\n",
       "      <td>$$$</td>\n",
       "      <td>{'address1': '623 S 6th St', 'address2': '', '...</td>\n",
       "      <td>+12159258000</td>\n",
       "      <td>(215) 925-8000</td>\n",
       "      <td>2109.506435</td>\n",
       "    </tr>\n",
       "    <tr>\n",
       "      <th>1</th>\n",
       "      <td>j-qtdD55OLfSqfsWuQTDJg</td>\n",
       "      <td>parc-philadelphia-2</td>\n",
       "      <td>Parc</td>\n",
       "      <td>https://s3-media3.fl.yelpcdn.com/bphoto/0vGzdK...</td>\n",
       "      <td>False</td>\n",
       "      <td>https://www.yelp.com/biz/parc-philadelphia-2?a...</td>\n",
       "      <td>2893</td>\n",
       "      <td>[{'alias': 'french', 'title': 'French'}, {'ali...</td>\n",
       "      <td>4.0</td>\n",
       "      <td>{'latitude': 39.9491724, 'longitude': -75.1707...</td>\n",
       "      <td>[pickup, delivery]</td>\n",
       "      <td>$$$</td>\n",
       "      <td>{'address1': '227 S 18th St', 'address2': '', ...</td>\n",
       "      <td>+12155452262</td>\n",
       "      <td>(215) 545-2262</td>\n",
       "      <td>514.179687</td>\n",
       "    </tr>\n",
       "    <tr>\n",
       "      <th>2</th>\n",
       "      <td>KTgZXj6xh8aN_tLfI-YZ1Q</td>\n",
       "      <td>bar-poulet-philadelphia</td>\n",
       "      <td>Bar Poulet</td>\n",
       "      <td>https://s3-media3.fl.yelpcdn.com/bphoto/lqt4KI...</td>\n",
       "      <td>False</td>\n",
       "      <td>https://www.yelp.com/biz/bar-poulet-philadelph...</td>\n",
       "      <td>86</td>\n",
       "      <td>[{'alias': 'cocktailbars', 'title': 'Cocktail ...</td>\n",
       "      <td>4.5</td>\n",
       "      <td>{'latitude': 39.95079, 'longitude': -75.17399}</td>\n",
       "      <td>[]</td>\n",
       "      <td>NaN</td>\n",
       "      <td>{'address1': '2005 Walnut St', 'address2': '',...</td>\n",
       "      <td>+12155578277</td>\n",
       "      <td>(215) 557-8277</td>\n",
       "      <td>407.607091</td>\n",
       "    </tr>\n",
       "    <tr>\n",
       "      <th>3</th>\n",
       "      <td>Oz7c0QA1C18Cb6tTdoehwQ</td>\n",
       "      <td>gabi-philadelphia</td>\n",
       "      <td>Gabi</td>\n",
       "      <td>https://s3-media4.fl.yelpcdn.com/bphoto/2Zpafl...</td>\n",
       "      <td>False</td>\n",
       "      <td>https://www.yelp.com/biz/gabi-philadelphia?adj...</td>\n",
       "      <td>129</td>\n",
       "      <td>[{'alias': 'french', 'title': 'French'}, {'ali...</td>\n",
       "      <td>4.5</td>\n",
       "      <td>{'latitude': 39.95925, 'longitude': -75.16151}</td>\n",
       "      <td>[delivery]</td>\n",
       "      <td>$$</td>\n",
       "      <td>{'address1': '339 N Broad St', 'address2': '',...</td>\n",
       "      <td></td>\n",
       "      <td></td>\n",
       "      <td>1008.936953</td>\n",
       "    </tr>\n",
       "    <tr>\n",
       "      <th>4</th>\n",
       "      <td>p-MSh95si_sDdih94gyKuw</td>\n",
       "      <td>forsythia-philadelphia</td>\n",
       "      <td>Forsythia</td>\n",
       "      <td>https://s3-media3.fl.yelpcdn.com/bphoto/3jnQZf...</td>\n",
       "      <td>False</td>\n",
       "      <td>https://www.yelp.com/biz/forsythia-philadelphi...</td>\n",
       "      <td>136</td>\n",
       "      <td>[{'alias': 'modern_european', 'title': 'Modern...</td>\n",
       "      <td>4.5</td>\n",
       "      <td>{'latitude': 39.9487067926056, 'longitude': -7...</td>\n",
       "      <td>[delivery]</td>\n",
       "      <td>$$$</td>\n",
       "      <td>{'address1': '233 Chestnut St', 'address2': ''...</td>\n",
       "      <td>+12156449395</td>\n",
       "      <td>(215) 644-9395</td>\n",
       "      <td>2271.260618</td>\n",
       "    </tr>\n",
       "  </tbody>\n",
       "</table>\n",
       "</div>"
      ],
      "text/plain": [
       "                       id                              alias  \\\n",
       "0  4_-IcMpkF_sBRHomWZHNzA  bistrot-la-minette-philadelphia-2   \n",
       "1  j-qtdD55OLfSqfsWuQTDJg                parc-philadelphia-2   \n",
       "2  KTgZXj6xh8aN_tLfI-YZ1Q            bar-poulet-philadelphia   \n",
       "3  Oz7c0QA1C18Cb6tTdoehwQ                  gabi-philadelphia   \n",
       "4  p-MSh95si_sDdih94gyKuw             forsythia-philadelphia   \n",
       "\n",
       "                 name                                          image_url  \\\n",
       "0  Bistrot La Minette  https://s3-media3.fl.yelpcdn.com/bphoto/JVcztQ...   \n",
       "1                Parc  https://s3-media3.fl.yelpcdn.com/bphoto/0vGzdK...   \n",
       "2          Bar Poulet  https://s3-media3.fl.yelpcdn.com/bphoto/lqt4KI...   \n",
       "3                Gabi  https://s3-media4.fl.yelpcdn.com/bphoto/2Zpafl...   \n",
       "4           Forsythia  https://s3-media3.fl.yelpcdn.com/bphoto/3jnQZf...   \n",
       "\n",
       "   is_closed                                                url  review_count  \\\n",
       "0      False  https://www.yelp.com/biz/bistrot-la-minette-ph...           625   \n",
       "1      False  https://www.yelp.com/biz/parc-philadelphia-2?a...          2893   \n",
       "2      False  https://www.yelp.com/biz/bar-poulet-philadelph...            86   \n",
       "3      False  https://www.yelp.com/biz/gabi-philadelphia?adj...           129   \n",
       "4      False  https://www.yelp.com/biz/forsythia-philadelphi...           136   \n",
       "\n",
       "                                          categories  rating  \\\n",
       "0  [{'alias': 'french', 'title': 'French'}, {'ali...     4.5   \n",
       "1  [{'alias': 'french', 'title': 'French'}, {'ali...     4.0   \n",
       "2  [{'alias': 'cocktailbars', 'title': 'Cocktail ...     4.5   \n",
       "3  [{'alias': 'french', 'title': 'French'}, {'ali...     4.5   \n",
       "4  [{'alias': 'modern_european', 'title': 'Modern...     4.5   \n",
       "\n",
       "                                         coordinates        transactions  \\\n",
       "0  {'latitude': 39.9414622968223, 'longitude': -7...          [delivery]   \n",
       "1  {'latitude': 39.9491724, 'longitude': -75.1707...  [pickup, delivery]   \n",
       "2     {'latitude': 39.95079, 'longitude': -75.17399}                  []   \n",
       "3     {'latitude': 39.95925, 'longitude': -75.16151}          [delivery]   \n",
       "4  {'latitude': 39.9487067926056, 'longitude': -7...          [delivery]   \n",
       "\n",
       "  price                                           location         phone  \\\n",
       "0   $$$  {'address1': '623 S 6th St', 'address2': '', '...  +12159258000   \n",
       "1   $$$  {'address1': '227 S 18th St', 'address2': '', ...  +12155452262   \n",
       "2   NaN  {'address1': '2005 Walnut St', 'address2': '',...  +12155578277   \n",
       "3    $$  {'address1': '339 N Broad St', 'address2': '',...                 \n",
       "4   $$$  {'address1': '233 Chestnut St', 'address2': ''...  +12156449395   \n",
       "\n",
       "    display_phone     distance  \n",
       "0  (215) 925-8000  2109.506435  \n",
       "1  (215) 545-2262   514.179687  \n",
       "2  (215) 557-8277   407.607091  \n",
       "3                  1008.936953  \n",
       "4  (215) 644-9395  2271.260618  "
      ]
     },
     "execution_count": 55,
     "metadata": {},
     "output_type": "execute_result"
    }
   ],
   "source": [
    "french_df = pd.DataFrame(french['businesses'])\n",
    "french_df.head()"
   ]
  },
  {
   "cell_type": "code",
   "execution_count": 56,
   "id": "9fea9315",
   "metadata": {},
   "outputs": [
    {
     "data": {
      "text/plain": [
       "132"
      ]
     },
     "execution_count": 56,
     "metadata": {},
     "output_type": "execute_result"
    }
   ],
   "source": [
    "french['total']"
   ]
  },
  {
   "cell_type": "markdown",
   "id": "042bfec2",
   "metadata": {},
   "source": [
    "132 results would need 7 pages."
   ]
  },
  {
   "cell_type": "code",
   "execution_count": 57,
   "id": "43cdb99f",
   "metadata": {},
   "outputs": [],
   "source": [
    "from tqdm.notebook import tqdm_notebook"
   ]
  },
  {
   "cell_type": "code",
   "execution_count": 58,
   "id": "55504077",
   "metadata": {},
   "outputs": [],
   "source": [
    "import math, time, os"
   ]
  },
  {
   "cell_type": "code",
   "execution_count": 59,
   "id": "202fc122",
   "metadata": {},
   "outputs": [
    {
     "data": {
      "text/plain": [
       "'Data/results_in_progress_french.json'"
      ]
     },
     "execution_count": 59,
     "metadata": {},
     "output_type": "execute_result"
    }
   ],
   "source": [
    "french_json_progress = f\"Data/results_in_progress_french.json\"\n",
    "french_json_progress"
   ]
  },
  {
   "cell_type": "code",
   "execution_count": 60,
   "id": "96225dd5",
   "metadata": {},
   "outputs": [
    {
     "name": "stdout",
     "output_type": "stream",
     "text": [
      "[i] Data/results_in_progress_french.json already exists.\n"
     ]
    }
   ],
   "source": [
    "file_exists = os.path.isfile(french_json_progress)\n",
    "if file_exists == False:\n",
    "    folder = os.path.dirname(french_json_progress)\n",
    "    if len(folder)>0:\n",
    "        os.makedirs(folder,exist_ok=True)\n",
    "        \n",
    "\n",
    "    print(f\"[i] {french_json_progress} not found. Saving empty list to file.\")\n",
    "    \n",
    "    with open(french_json_progress,'w') as f:\n",
    "        json.dump([],f)  \n",
    "\n",
    "else:\n",
    "    print(f\"[i] {french_json_progress} already exists.\")"
   ]
  },
  {
   "cell_type": "code",
   "execution_count": 61,
   "id": "1d69589e",
   "metadata": {},
   "outputs": [
    {
     "name": "stdout",
     "output_type": "stream",
     "text": [
      "- 132 previous results found.\n"
     ]
    }
   ],
   "source": [
    "with open(french_json_progress,'r') as f:\n",
    "    previous_results = json.load(f)\n",
    "    \n",
    "n_results = len(previous_results)\n",
    "print(f'- {n_results} previous results found.')"
   ]
  },
  {
   "cell_type": "code",
   "execution_count": 62,
   "id": "9a189846",
   "metadata": {},
   "outputs": [
    {
     "data": {
      "text/plain": [
       "dict_keys(['businesses', 'total', 'region'])"
      ]
     },
     "execution_count": 62,
     "metadata": {},
     "output_type": "execute_result"
    }
   ],
   "source": [
    "results = yelp_api.search_query(location=\"Philadelphia, PA\",\n",
    "                                term=\"French\",\n",
    "                               offset=n_results)\n",
    "results.keys()"
   ]
  },
  {
   "cell_type": "code",
   "execution_count": 63,
   "id": "48ea841e",
   "metadata": {},
   "outputs": [
    {
     "ename": "ZeroDivisionError",
     "evalue": "division by zero",
     "output_type": "error",
     "traceback": [
      "\u001b[0;31m---------------------------------------------------------------------------\u001b[0m",
      "\u001b[0;31mZeroDivisionError\u001b[0m                         Traceback (most recent call last)",
      "Input \u001b[0;32mIn [63]\u001b[0m, in \u001b[0;36m<cell line: 4>\u001b[0;34m()\u001b[0m\n\u001b[1;32m      1\u001b[0m total_results \u001b[38;5;241m=\u001b[39m results[\u001b[38;5;124m'\u001b[39m\u001b[38;5;124mtotal\u001b[39m\u001b[38;5;124m'\u001b[39m]\n\u001b[1;32m      2\u001b[0m results_per_page \u001b[38;5;241m=\u001b[39m \u001b[38;5;28mlen\u001b[39m(results[\u001b[38;5;124m'\u001b[39m\u001b[38;5;124mbusinesses\u001b[39m\u001b[38;5;124m'\u001b[39m])\n\u001b[0;32m----> 4\u001b[0m n_pages \u001b[38;5;241m=\u001b[39m math\u001b[38;5;241m.\u001b[39mceil(\u001b[43m(\u001b[49m\u001b[43mresults\u001b[49m\u001b[43m[\u001b[49m\u001b[38;5;124;43m'\u001b[39;49m\u001b[38;5;124;43mtotal\u001b[39;49m\u001b[38;5;124;43m'\u001b[39;49m\u001b[43m]\u001b[49m\u001b[38;5;241;43m-\u001b[39;49m\u001b[43mn_results\u001b[49m\u001b[43m)\u001b[49m\u001b[38;5;241;43m/\u001b[39;49m\u001b[43m \u001b[49m\u001b[43mresults_per_page\u001b[49m)\n\u001b[1;32m      5\u001b[0m n_pages\n",
      "\u001b[0;31mZeroDivisionError\u001b[0m: division by zero"
     ]
    }
   ],
   "source": [
    "total_results = results['total']\n",
    "results_per_page = len(results['businesses'])\n",
    "\n",
    "n_pages = math.ceil((results['total']-n_results)/ results_per_page)\n",
    "n_pages"
   ]
  },
  {
   "cell_type": "code",
   "execution_count": 64,
   "id": "647766b6",
   "metadata": {},
   "outputs": [],
   "source": [
    "previous_results.extend(results['businesses'])  \n",
    "with open(french_json_progress,'w') as f:\n",
    "     json.dump(previous_results,f)"
   ]
  },
  {
   "cell_type": "code",
   "execution_count": 65,
   "id": "a68abc51",
   "metadata": {},
   "outputs": [
    {
     "data": {
      "application/vnd.jupyter.widget-view+json": {
       "model_id": "a251b799b96d4da38a7c481cdaa71403",
       "version_major": 2,
       "version_minor": 0
      },
      "text/plain": [
       "  0%|          | 0/7 [00:00<?, ?it/s]"
      ]
     },
     "metadata": {},
     "output_type": "display_data"
    }
   ],
   "source": [
    "for i in tqdm_notebook(range(n_pages)):\n",
    "    time.sleep(.2) "
   ]
  },
  {
   "cell_type": "code",
   "execution_count": 66,
   "id": "7d6fab7f",
   "metadata": {},
   "outputs": [
    {
     "data": {
      "application/vnd.jupyter.widget-view+json": {
       "model_id": "8f3f4882de6647948f75401630575154",
       "version_major": 2,
       "version_minor": 0
      },
      "text/plain": [
       "  0%|          | 0/7 [00:00<?, ?it/s]"
      ]
     },
     "metadata": {},
     "output_type": "display_data"
    }
   ],
   "source": [
    "for i in tqdm_notebook( range(1,n_pages+1)):\n",
    "    time.sleep(.2)\n",
    "\n",
    "    with open(french_json_progress, 'r') as f:\n",
    "        previous_results = json.load(f)\n",
    "\n",
    "    n_results = len(previous_results)\n",
    "\n",
    "    results = yelp_api.search_query(location='Philadelphia, PA',\n",
    "                                    term='French', \n",
    "                                    offset=n_results)\n",
    "    \n",
    "\n",
    "    previous_results.extend(results['businesses'])\n",
    "    \n",
    "\n",
    "    with open(french_json_progress,'w') as f:\n",
    "        json.dump(previous_results,f)"
   ]
  },
  {
   "cell_type": "code",
   "execution_count": 67,
   "id": "53529c62",
   "metadata": {},
   "outputs": [
    {
     "data": {
      "text/html": [
       "<div>\n",
       "<style scoped>\n",
       "    .dataframe tbody tr th:only-of-type {\n",
       "        vertical-align: middle;\n",
       "    }\n",
       "\n",
       "    .dataframe tbody tr th {\n",
       "        vertical-align: top;\n",
       "    }\n",
       "\n",
       "    .dataframe thead th {\n",
       "        text-align: right;\n",
       "    }\n",
       "</style>\n",
       "<table border=\"1\" class=\"dataframe\">\n",
       "  <thead>\n",
       "    <tr style=\"text-align: right;\">\n",
       "      <th></th>\n",
       "      <th>id</th>\n",
       "      <th>alias</th>\n",
       "      <th>name</th>\n",
       "      <th>image_url</th>\n",
       "      <th>is_closed</th>\n",
       "      <th>url</th>\n",
       "      <th>review_count</th>\n",
       "      <th>categories</th>\n",
       "      <th>rating</th>\n",
       "      <th>coordinates</th>\n",
       "      <th>transactions</th>\n",
       "      <th>price</th>\n",
       "      <th>location</th>\n",
       "      <th>phone</th>\n",
       "      <th>display_phone</th>\n",
       "      <th>distance</th>\n",
       "    </tr>\n",
       "  </thead>\n",
       "  <tbody>\n",
       "    <tr>\n",
       "      <th>0</th>\n",
       "      <td>4_-IcMpkF_sBRHomWZHNzA</td>\n",
       "      <td>bistrot-la-minette-philadelphia-2</td>\n",
       "      <td>Bistrot La Minette</td>\n",
       "      <td>https://s3-media3.fl.yelpcdn.com/bphoto/JVcztQ...</td>\n",
       "      <td>False</td>\n",
       "      <td>https://www.yelp.com/biz/bistrot-la-minette-ph...</td>\n",
       "      <td>625</td>\n",
       "      <td>[{'alias': 'french', 'title': 'French'}, {'ali...</td>\n",
       "      <td>4.5</td>\n",
       "      <td>{'latitude': 39.9414622968223, 'longitude': -7...</td>\n",
       "      <td>[delivery]</td>\n",
       "      <td>$$$</td>\n",
       "      <td>{'address1': '623 S 6th St', 'address2': '', '...</td>\n",
       "      <td>+12159258000</td>\n",
       "      <td>(215) 925-8000</td>\n",
       "      <td>2109.506435</td>\n",
       "    </tr>\n",
       "    <tr>\n",
       "      <th>1</th>\n",
       "      <td>j-qtdD55OLfSqfsWuQTDJg</td>\n",
       "      <td>parc-philadelphia-2</td>\n",
       "      <td>Parc</td>\n",
       "      <td>https://s3-media3.fl.yelpcdn.com/bphoto/0vGzdK...</td>\n",
       "      <td>False</td>\n",
       "      <td>https://www.yelp.com/biz/parc-philadelphia-2?a...</td>\n",
       "      <td>2893</td>\n",
       "      <td>[{'alias': 'french', 'title': 'French'}, {'ali...</td>\n",
       "      <td>4.0</td>\n",
       "      <td>{'latitude': 39.9491724, 'longitude': -75.1707...</td>\n",
       "      <td>[pickup, delivery]</td>\n",
       "      <td>$$$</td>\n",
       "      <td>{'address1': '227 S 18th St', 'address2': '', ...</td>\n",
       "      <td>+12155452262</td>\n",
       "      <td>(215) 545-2262</td>\n",
       "      <td>514.179687</td>\n",
       "    </tr>\n",
       "    <tr>\n",
       "      <th>2</th>\n",
       "      <td>KTgZXj6xh8aN_tLfI-YZ1Q</td>\n",
       "      <td>bar-poulet-philadelphia</td>\n",
       "      <td>Bar Poulet</td>\n",
       "      <td>https://s3-media3.fl.yelpcdn.com/bphoto/lqt4KI...</td>\n",
       "      <td>False</td>\n",
       "      <td>https://www.yelp.com/biz/bar-poulet-philadelph...</td>\n",
       "      <td>86</td>\n",
       "      <td>[{'alias': 'cocktailbars', 'title': 'Cocktail ...</td>\n",
       "      <td>4.5</td>\n",
       "      <td>{'latitude': 39.95079, 'longitude': -75.17399}</td>\n",
       "      <td>[]</td>\n",
       "      <td>NaN</td>\n",
       "      <td>{'address1': '2005 Walnut St', 'address2': '',...</td>\n",
       "      <td>+12155578277</td>\n",
       "      <td>(215) 557-8277</td>\n",
       "      <td>407.607091</td>\n",
       "    </tr>\n",
       "    <tr>\n",
       "      <th>3</th>\n",
       "      <td>Oz7c0QA1C18Cb6tTdoehwQ</td>\n",
       "      <td>gabi-philadelphia</td>\n",
       "      <td>Gabi</td>\n",
       "      <td>https://s3-media4.fl.yelpcdn.com/bphoto/2Zpafl...</td>\n",
       "      <td>False</td>\n",
       "      <td>https://www.yelp.com/biz/gabi-philadelphia?adj...</td>\n",
       "      <td>129</td>\n",
       "      <td>[{'alias': 'french', 'title': 'French'}, {'ali...</td>\n",
       "      <td>4.5</td>\n",
       "      <td>{'latitude': 39.95925, 'longitude': -75.16151}</td>\n",
       "      <td>[delivery]</td>\n",
       "      <td>$$</td>\n",
       "      <td>{'address1': '339 N Broad St', 'address2': '',...</td>\n",
       "      <td></td>\n",
       "      <td></td>\n",
       "      <td>1008.936953</td>\n",
       "    </tr>\n",
       "    <tr>\n",
       "      <th>4</th>\n",
       "      <td>p-MSh95si_sDdih94gyKuw</td>\n",
       "      <td>forsythia-philadelphia</td>\n",
       "      <td>Forsythia</td>\n",
       "      <td>https://s3-media3.fl.yelpcdn.com/bphoto/3jnQZf...</td>\n",
       "      <td>False</td>\n",
       "      <td>https://www.yelp.com/biz/forsythia-philadelphi...</td>\n",
       "      <td>136</td>\n",
       "      <td>[{'alias': 'modern_european', 'title': 'Modern...</td>\n",
       "      <td>4.5</td>\n",
       "      <td>{'latitude': 39.9487067926056, 'longitude': -7...</td>\n",
       "      <td>[delivery]</td>\n",
       "      <td>$$$</td>\n",
       "      <td>{'address1': '233 Chestnut St', 'address2': ''...</td>\n",
       "      <td>+12156449395</td>\n",
       "      <td>(215) 644-9395</td>\n",
       "      <td>2271.260618</td>\n",
       "    </tr>\n",
       "  </tbody>\n",
       "</table>\n",
       "</div>"
      ],
      "text/plain": [
       "                       id                              alias  \\\n",
       "0  4_-IcMpkF_sBRHomWZHNzA  bistrot-la-minette-philadelphia-2   \n",
       "1  j-qtdD55OLfSqfsWuQTDJg                parc-philadelphia-2   \n",
       "2  KTgZXj6xh8aN_tLfI-YZ1Q            bar-poulet-philadelphia   \n",
       "3  Oz7c0QA1C18Cb6tTdoehwQ                  gabi-philadelphia   \n",
       "4  p-MSh95si_sDdih94gyKuw             forsythia-philadelphia   \n",
       "\n",
       "                 name                                          image_url  \\\n",
       "0  Bistrot La Minette  https://s3-media3.fl.yelpcdn.com/bphoto/JVcztQ...   \n",
       "1                Parc  https://s3-media3.fl.yelpcdn.com/bphoto/0vGzdK...   \n",
       "2          Bar Poulet  https://s3-media3.fl.yelpcdn.com/bphoto/lqt4KI...   \n",
       "3                Gabi  https://s3-media4.fl.yelpcdn.com/bphoto/2Zpafl...   \n",
       "4           Forsythia  https://s3-media3.fl.yelpcdn.com/bphoto/3jnQZf...   \n",
       "\n",
       "   is_closed                                                url  review_count  \\\n",
       "0      False  https://www.yelp.com/biz/bistrot-la-minette-ph...           625   \n",
       "1      False  https://www.yelp.com/biz/parc-philadelphia-2?a...          2893   \n",
       "2      False  https://www.yelp.com/biz/bar-poulet-philadelph...            86   \n",
       "3      False  https://www.yelp.com/biz/gabi-philadelphia?adj...           129   \n",
       "4      False  https://www.yelp.com/biz/forsythia-philadelphi...           136   \n",
       "\n",
       "                                          categories  rating  \\\n",
       "0  [{'alias': 'french', 'title': 'French'}, {'ali...     4.5   \n",
       "1  [{'alias': 'french', 'title': 'French'}, {'ali...     4.0   \n",
       "2  [{'alias': 'cocktailbars', 'title': 'Cocktail ...     4.5   \n",
       "3  [{'alias': 'french', 'title': 'French'}, {'ali...     4.5   \n",
       "4  [{'alias': 'modern_european', 'title': 'Modern...     4.5   \n",
       "\n",
       "                                         coordinates        transactions  \\\n",
       "0  {'latitude': 39.9414622968223, 'longitude': -7...          [delivery]   \n",
       "1  {'latitude': 39.9491724, 'longitude': -75.1707...  [pickup, delivery]   \n",
       "2     {'latitude': 39.95079, 'longitude': -75.17399}                  []   \n",
       "3     {'latitude': 39.95925, 'longitude': -75.16151}          [delivery]   \n",
       "4  {'latitude': 39.9487067926056, 'longitude': -7...          [delivery]   \n",
       "\n",
       "  price                                           location         phone  \\\n",
       "0   $$$  {'address1': '623 S 6th St', 'address2': '', '...  +12159258000   \n",
       "1   $$$  {'address1': '227 S 18th St', 'address2': '', ...  +12155452262   \n",
       "2   NaN  {'address1': '2005 Walnut St', 'address2': '',...  +12155578277   \n",
       "3    $$  {'address1': '339 N Broad St', 'address2': '',...                 \n",
       "4   $$$  {'address1': '233 Chestnut St', 'address2': ''...  +12156449395   \n",
       "\n",
       "    display_phone     distance  \n",
       "0  (215) 925-8000  2109.506435  \n",
       "1  (215) 545-2262   514.179687  \n",
       "2  (215) 557-8277   407.607091  \n",
       "3                  1008.936953  \n",
       "4  (215) 644-9395  2271.260618  "
      ]
     },
     "metadata": {},
     "output_type": "display_data"
    },
    {
     "data": {
      "text/html": [
       "<div>\n",
       "<style scoped>\n",
       "    .dataframe tbody tr th:only-of-type {\n",
       "        vertical-align: middle;\n",
       "    }\n",
       "\n",
       "    .dataframe tbody tr th {\n",
       "        vertical-align: top;\n",
       "    }\n",
       "\n",
       "    .dataframe thead th {\n",
       "        text-align: right;\n",
       "    }\n",
       "</style>\n",
       "<table border=\"1\" class=\"dataframe\">\n",
       "  <thead>\n",
       "    <tr style=\"text-align: right;\">\n",
       "      <th></th>\n",
       "      <th>id</th>\n",
       "      <th>alias</th>\n",
       "      <th>name</th>\n",
       "      <th>image_url</th>\n",
       "      <th>is_closed</th>\n",
       "      <th>url</th>\n",
       "      <th>review_count</th>\n",
       "      <th>categories</th>\n",
       "      <th>rating</th>\n",
       "      <th>coordinates</th>\n",
       "      <th>transactions</th>\n",
       "      <th>price</th>\n",
       "      <th>location</th>\n",
       "      <th>phone</th>\n",
       "      <th>display_phone</th>\n",
       "      <th>distance</th>\n",
       "    </tr>\n",
       "  </thead>\n",
       "  <tbody>\n",
       "    <tr>\n",
       "      <th>127</th>\n",
       "      <td>ArNDRug3p5zngNHiLivnFA</td>\n",
       "      <td>cibo-bistro-wine-bar-philadelphia</td>\n",
       "      <td>CIBO Bistro Wine Bar</td>\n",
       "      <td>https://s3-media3.fl.yelpcdn.com/bphoto/_7yKMN...</td>\n",
       "      <td>False</td>\n",
       "      <td>https://www.yelp.com/biz/cibo-bistro-wine-bar-...</td>\n",
       "      <td>135</td>\n",
       "      <td>[{'alias': 'italian', 'title': 'Italian'}, {'a...</td>\n",
       "      <td>3.0</td>\n",
       "      <td>{'latitude': 39.875016, 'longitude': -75.243913}</td>\n",
       "      <td>[]</td>\n",
       "      <td>$$</td>\n",
       "      <td>{'address1': '8000 Essington Ave', 'address2':...</td>\n",
       "      <td>+12676845003</td>\n",
       "      <td>(267) 684-5003</td>\n",
       "      <td>10731.427037</td>\n",
       "    </tr>\n",
       "    <tr>\n",
       "      <th>128</th>\n",
       "      <td>19fHbf0qzihtEtXQZ2ntww</td>\n",
       "      <td>walters-steakhouse-wilmington</td>\n",
       "      <td>Walter's Steakhouse</td>\n",
       "      <td>https://s3-media2.fl.yelpcdn.com/bphoto/Rotj6k...</td>\n",
       "      <td>False</td>\n",
       "      <td>https://www.yelp.com/biz/walters-steakhouse-wi...</td>\n",
       "      <td>92</td>\n",
       "      <td>[{'alias': 'steak', 'title': 'Steakhouses'}, {...</td>\n",
       "      <td>4.0</td>\n",
       "      <td>{'latitude': 39.75229, 'longitude': -75.57062}</td>\n",
       "      <td>[]</td>\n",
       "      <td>$$$</td>\n",
       "      <td>{'address1': '802 N Union St', 'address2': '',...</td>\n",
       "      <td>+13026526780</td>\n",
       "      <td>(302) 652-6780</td>\n",
       "      <td>40798.199868</td>\n",
       "    </tr>\n",
       "    <tr>\n",
       "      <th>129</th>\n",
       "      <td>G0Fhi9lh1sSZSSPuXpe6Ug</td>\n",
       "      <td>harvest-seasonal-grill-newtown-newtown</td>\n",
       "      <td>Harvest Seasonal Grill - Newtown</td>\n",
       "      <td>https://s3-media2.fl.yelpcdn.com/bphoto/3KoRJS...</td>\n",
       "      <td>False</td>\n",
       "      <td>https://www.yelp.com/biz/harvest-seasonal-gril...</td>\n",
       "      <td>283</td>\n",
       "      <td>[{'alias': 'newamerican', 'title': 'American (...</td>\n",
       "      <td>4.0</td>\n",
       "      <td>{'latitude': 40.2357309, 'longitude': -74.9394...</td>\n",
       "      <td>[delivery]</td>\n",
       "      <td>$$</td>\n",
       "      <td>{'address1': '2865 S Eagle Rd', 'address2': No...</td>\n",
       "      <td>+12159448469</td>\n",
       "      <td>(215) 944-8469</td>\n",
       "      <td>37033.065998</td>\n",
       "    </tr>\n",
       "    <tr>\n",
       "      <th>130</th>\n",
       "      <td>rK4MQ-vybY5KXI73o-0mlw</td>\n",
       "      <td>jakes-and-coopers-wine-bar-and-wine-shop-phila...</td>\n",
       "      <td>Jake's &amp; Cooper's Wine Bar &amp; Wine Shop</td>\n",
       "      <td>https://s3-media3.fl.yelpcdn.com/bphoto/tD7zPa...</td>\n",
       "      <td>False</td>\n",
       "      <td>https://www.yelp.com/biz/jakes-and-coopers-win...</td>\n",
       "      <td>319</td>\n",
       "      <td>[{'alias': 'newamerican', 'title': 'American (...</td>\n",
       "      <td>3.5</td>\n",
       "      <td>{'latitude': 40.025878, 'longitude': -75.224113}</td>\n",
       "      <td>[delivery, pickup]</td>\n",
       "      <td>$$</td>\n",
       "      <td>{'address1': '4365 Main St', 'address2': '', '...</td>\n",
       "      <td>+12154830444</td>\n",
       "      <td>(215) 483-0444</td>\n",
       "      <td>9204.431323</td>\n",
       "    </tr>\n",
       "    <tr>\n",
       "      <th>131</th>\n",
       "      <td>8mSY98peCMoPaHcUhfeo9A</td>\n",
       "      <td>seven-star-diner-sewell</td>\n",
       "      <td>Seven Star Diner</td>\n",
       "      <td>https://s3-media2.fl.yelpcdn.com/bphoto/7Fhrkr...</td>\n",
       "      <td>False</td>\n",
       "      <td>https://www.yelp.com/biz/seven-star-diner-sewe...</td>\n",
       "      <td>230</td>\n",
       "      <td>[{'alias': 'diners', 'title': 'Diners'}, {'ali...</td>\n",
       "      <td>2.5</td>\n",
       "      <td>{'latitude': 39.78461, 'longitude': -75.102223}</td>\n",
       "      <td>[delivery]</td>\n",
       "      <td>$$</td>\n",
       "      <td>{'address1': '1890 Hurfville Rd', 'address2': ...</td>\n",
       "      <td></td>\n",
       "      <td></td>\n",
       "      <td>19712.105055</td>\n",
       "    </tr>\n",
       "  </tbody>\n",
       "</table>\n",
       "</div>"
      ],
      "text/plain": [
       "                         id  \\\n",
       "127  ArNDRug3p5zngNHiLivnFA   \n",
       "128  19fHbf0qzihtEtXQZ2ntww   \n",
       "129  G0Fhi9lh1sSZSSPuXpe6Ug   \n",
       "130  rK4MQ-vybY5KXI73o-0mlw   \n",
       "131  8mSY98peCMoPaHcUhfeo9A   \n",
       "\n",
       "                                                 alias  \\\n",
       "127                  cibo-bistro-wine-bar-philadelphia   \n",
       "128                      walters-steakhouse-wilmington   \n",
       "129             harvest-seasonal-grill-newtown-newtown   \n",
       "130  jakes-and-coopers-wine-bar-and-wine-shop-phila...   \n",
       "131                            seven-star-diner-sewell   \n",
       "\n",
       "                                       name  \\\n",
       "127                    CIBO Bistro Wine Bar   \n",
       "128                     Walter's Steakhouse   \n",
       "129        Harvest Seasonal Grill - Newtown   \n",
       "130  Jake's & Cooper's Wine Bar & Wine Shop   \n",
       "131                        Seven Star Diner   \n",
       "\n",
       "                                             image_url  is_closed  \\\n",
       "127  https://s3-media3.fl.yelpcdn.com/bphoto/_7yKMN...      False   \n",
       "128  https://s3-media2.fl.yelpcdn.com/bphoto/Rotj6k...      False   \n",
       "129  https://s3-media2.fl.yelpcdn.com/bphoto/3KoRJS...      False   \n",
       "130  https://s3-media3.fl.yelpcdn.com/bphoto/tD7zPa...      False   \n",
       "131  https://s3-media2.fl.yelpcdn.com/bphoto/7Fhrkr...      False   \n",
       "\n",
       "                                                   url  review_count  \\\n",
       "127  https://www.yelp.com/biz/cibo-bistro-wine-bar-...           135   \n",
       "128  https://www.yelp.com/biz/walters-steakhouse-wi...            92   \n",
       "129  https://www.yelp.com/biz/harvest-seasonal-gril...           283   \n",
       "130  https://www.yelp.com/biz/jakes-and-coopers-win...           319   \n",
       "131  https://www.yelp.com/biz/seven-star-diner-sewe...           230   \n",
       "\n",
       "                                            categories  rating  \\\n",
       "127  [{'alias': 'italian', 'title': 'Italian'}, {'a...     3.0   \n",
       "128  [{'alias': 'steak', 'title': 'Steakhouses'}, {...     4.0   \n",
       "129  [{'alias': 'newamerican', 'title': 'American (...     4.0   \n",
       "130  [{'alias': 'newamerican', 'title': 'American (...     3.5   \n",
       "131  [{'alias': 'diners', 'title': 'Diners'}, {'ali...     2.5   \n",
       "\n",
       "                                           coordinates        transactions  \\\n",
       "127   {'latitude': 39.875016, 'longitude': -75.243913}                  []   \n",
       "128     {'latitude': 39.75229, 'longitude': -75.57062}                  []   \n",
       "129  {'latitude': 40.2357309, 'longitude': -74.9394...          [delivery]   \n",
       "130   {'latitude': 40.025878, 'longitude': -75.224113}  [delivery, pickup]   \n",
       "131    {'latitude': 39.78461, 'longitude': -75.102223}          [delivery]   \n",
       "\n",
       "    price                                           location         phone  \\\n",
       "127    $$  {'address1': '8000 Essington Ave', 'address2':...  +12676845003   \n",
       "128   $$$  {'address1': '802 N Union St', 'address2': '',...  +13026526780   \n",
       "129    $$  {'address1': '2865 S Eagle Rd', 'address2': No...  +12159448469   \n",
       "130    $$  {'address1': '4365 Main St', 'address2': '', '...  +12154830444   \n",
       "131    $$  {'address1': '1890 Hurfville Rd', 'address2': ...                 \n",
       "\n",
       "      display_phone      distance  \n",
       "127  (267) 684-5003  10731.427037  \n",
       "128  (302) 652-6780  40798.199868  \n",
       "129  (215) 944-8469  37033.065998  \n",
       "130  (215) 483-0444   9204.431323  \n",
       "131                  19712.105055  "
      ]
     },
     "metadata": {},
     "output_type": "display_data"
    }
   ],
   "source": [
    "final_french_df = pd.read_json(french_json_progress)\n",
    "display(final_french_df.head(), final_french_df.tail())"
   ]
  },
  {
   "cell_type": "code",
   "execution_count": 68,
   "id": "2f577fcb",
   "metadata": {},
   "outputs": [],
   "source": [
    "final_french_df.to_csv('Data/final_results_french.csv.gz', compression='gzip',index=False)"
   ]
  },
  {
   "cell_type": "code",
   "execution_count": null,
   "id": "751bc4c1",
   "metadata": {},
   "outputs": [],
   "source": []
  }
 ],
 "metadata": {
  "kernelspec": {
   "display_name": "Python (dojo-env)",
   "language": "python",
   "name": "dojo-env"
  },
  "language_info": {
   "codemirror_mode": {
    "name": "ipython",
    "version": 3
   },
   "file_extension": ".py",
   "mimetype": "text/x-python",
   "name": "python",
   "nbconvert_exporter": "python",
   "pygments_lexer": "ipython3",
   "version": "3.8.13"
  },
  "toc": {
   "base_numbering": 1,
   "nav_menu": {},
   "number_sections": false,
   "sideBar": true,
   "skip_h1_title": false,
   "title_cell": "Table of Contents",
   "title_sidebar": "Contents",
   "toc_cell": false,
   "toc_position": {},
   "toc_section_display": true,
   "toc_window_display": false
  }
 },
 "nbformat": 4,
 "nbformat_minor": 5
}
